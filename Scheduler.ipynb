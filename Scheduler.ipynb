{
 "cells": [
  {
   "cell_type": "markdown",
   "metadata": {},
   "source": []
  },
  {
   "cell_type": "code",
   "execution_count": 10,
   "metadata": {
    "pixiedust": {
     "displayParams": {}
    }
   },
   "outputs": [
    {
     "ename": "IndexError",
     "evalue": "list assignment index out of range",
     "output_type": "error",
     "traceback": [
      "\u001b[1;31m---------------------------------------------------------------------------\u001b[0m",
      "\u001b[1;31mIndexError\u001b[0m                                Traceback (most recent call last)",
      "\u001b[1;32m<ipython-input-10-4222d1534958>\u001b[0m in \u001b[0;36m<module>\u001b[1;34m\u001b[0m\n\u001b[0;32m    105\u001b[0m \u001b[0mi\u001b[0m \u001b[1;33m=\u001b[0m \u001b[1;36m0\u001b[0m\u001b[1;33m\u001b[0m\u001b[1;33m\u001b[0m\u001b[0m\n\u001b[0;32m    106\u001b[0m \u001b[1;32mwhile\u001b[0m \u001b[1;33m(\u001b[0m\u001b[0mi\u001b[0m\u001b[1;33m<\u001b[0m\u001b[0mlen\u001b[0m\u001b[1;33m(\u001b[0m\u001b[0mname\u001b[0m\u001b[1;33m)\u001b[0m\u001b[1;33m)\u001b[0m\u001b[1;33m:\u001b[0m\u001b[1;33m\u001b[0m\u001b[1;33m\u001b[0m\u001b[0m\n\u001b[1;32m--> 107\u001b[1;33m     \u001b[0mmt\u001b[0m\u001b[1;33m[\u001b[0m\u001b[0mi\u001b[0m\u001b[1;33m]\u001b[0m \u001b[1;33m=\u001b[0m \u001b[0mmasterTrainer\u001b[0m\u001b[1;33m(\u001b[0m\u001b[0mname\u001b[0m\u001b[1;33m[\u001b[0m\u001b[0mi\u001b[0m\u001b[1;33m]\u001b[0m\u001b[1;33m,\u001b[0m\u001b[0mlocation\u001b[0m\u001b[1;33m[\u001b[0m\u001b[0mi\u001b[0m\u001b[1;33m]\u001b[0m\u001b[1;33m,\u001b[0m\u001b[0msubject\u001b[0m\u001b[1;33m[\u001b[0m\u001b[0mi\u001b[0m\u001b[1;33m]\u001b[0m\u001b[1;33m,\u001b[0m\u001b[0mlatitude\u001b[0m\u001b[1;33m[\u001b[0m\u001b[0mi\u001b[0m\u001b[1;33m]\u001b[0m\u001b[1;33m,\u001b[0m\u001b[0mlongitude\u001b[0m\u001b[1;33m[\u001b[0m\u001b[0mi\u001b[0m\u001b[1;33m]\u001b[0m\u001b[1;33m)\u001b[0m\u001b[1;33m\u001b[0m\u001b[1;33m\u001b[0m\u001b[0m\n\u001b[0m\u001b[0;32m    108\u001b[0m     \u001b[0mmasters\u001b[0m\u001b[1;33m.\u001b[0m\u001b[0mappend\u001b[0m\u001b[1;33m(\u001b[0m\u001b[0mmt\u001b[0m\u001b[1;33m)\u001b[0m\u001b[1;33m\u001b[0m\u001b[1;33m\u001b[0m\u001b[0m\n\u001b[0;32m    109\u001b[0m     \u001b[0mi\u001b[0m \u001b[1;33m=\u001b[0m \u001b[0mi\u001b[0m\u001b[1;33m+\u001b[0m\u001b[1;36m1\u001b[0m\u001b[1;33m\u001b[0m\u001b[1;33m\u001b[0m\u001b[0m\n",
      "\u001b[1;31mIndexError\u001b[0m: list assignment index out of range"
     ]
    }
   ],
   "source": [
    "\n",
    "\n",
    "import math\n",
    "import csv\n",
    "import pdb\n",
    "\n",
    "from math import radians, sin, cos, acos\n",
    "\n",
    "\n",
    "class venue:\n",
    "    venueGeoLat = []\n",
    "    venueGeoLon = []\n",
    "    venueName = []\n",
    "\n",
    "    def __init__(self, name, latitude, longitude):\n",
    "        self.name = name\n",
    "        self.latitude = latitude\n",
    "        self.longitude = longitude\n",
    "\n",
    "    with open('venueData.csv') as csvDataFile:\n",
    "        csvReader = csv.reader(csvDataFile)\n",
    "        for row in csvReader:\n",
    "            venueGeoLat.append(row[1])\n",
    "            venueGeoLon.append(row[2])\n",
    "            venueName.append(row[0])\n",
    "\n",
    "\n",
    "class masterTrainer:\n",
    "    \n",
    "    name = None\n",
    "    location = None\n",
    "    subject = None\n",
    "    latitude = None\n",
    "    longitude = None\n",
    "    distanceFromVenues = []\n",
    "    nearestVenues = []\n",
    "    \n",
    "    def __init__(self, name, location, subject, latitude, longitude):\n",
    "        masterTrainer.name = name\n",
    "        masterTrainer.location = location\n",
    "        masterTrainer.subject = subject\n",
    "        masterTrainer.latitude = latitude\n",
    "        masterTrainer.longitude = longitude\n",
    "        i = 1\n",
    "        j = 1\n",
    "        while (i < 2):\n",
    "            while (j < len(venue.venueGeoLat)):\n",
    "                masterTrainer.distanceFromVenues.append(masterTrainer.distanceCalculator(float(masterTrainer.latitude),float(masterTrainer.longitude),float(venue.venueGeoLat[j]),float(venue.venueGeoLon[j])))\n",
    "                j = j + 1\n",
    "            i = i + 1\n",
    "            \n",
    "        MAX = 100000\n",
    "        firstmin = MAX\n",
    "        secmin = MAX\n",
    "        thirdmin = MAX\n",
    "        k = 0\n",
    "        l = 0\n",
    "        m = 0\n",
    "        for i in range(0, len(masterTrainer.distanceFromVenues)):\n",
    "            if masterTrainer.distanceFromVenues[i] < firstmin:\n",
    "                thirdmin = secmin\n",
    "                secmin = firstmin\n",
    "                firstmin = masterTrainer.distanceFromVenues[i]\n",
    "                k = i\n",
    "\n",
    "            elif masterTrainer.distanceFromVenues[i] < secmin:\n",
    "                thirdmin = secmin\n",
    "                secmin = masterTrainer.distanceFromVenues[i]\n",
    "                l = i\n",
    "\n",
    "            elif masterTrainer.distanceFromVenues[i] < thirdmin:\n",
    "                thirdmin = masterTrainer.distanceFromVenues[i]\n",
    "                m = i\n",
    "        masterTrainer.nearestVenues.append(venue.venueName[k+1])\n",
    "        masterTrainer.nearestVenues.append(venue.venueName[l+1])\n",
    "        masterTrainer.nearestVenues.append(venue.venueName[m+1])\n",
    "\n",
    "\n",
    "    def distanceCalculator(latitude1,longitude1,latitude2,longitude2):\n",
    "        slat = radians(latitude1)\n",
    "        slon = radians(longitude1)\n",
    "        elat = radians(latitude2)\n",
    "        elon = radians(longitude2)\n",
    "        dist = 6371.01 * acos(sin(slat)*sin(elat) + cos(slat)*cos(elat)*cos(slon - elon))\n",
    "        return dist\n",
    "\n",
    "    \n",
    "\n",
    "name = list()\n",
    "location = list()\n",
    "subject = list()\n",
    "latitude = list()\n",
    "longitude = list()\n",
    "with open('mtData.csv') as csvDataFile:\n",
    "    csvReader = csv.reader(csvDataFile)\n",
    "    for row in csvReader:\n",
    "        name.append(row[0])\n",
    "        location.append(row[1])\n",
    "        subject.append(row[4])\n",
    "        latitude.append(row[2])\n",
    "        longitude.append(row[3])\n",
    "\n",
    "masters = list()\n",
    "mt = list()\n",
    "i = 0\n",
    "while (i<len(name)):\n",
    "    mt[i] = masterTrainer(name[i],location[i],subject[i],latitude[i],longitude[i])\n",
    "    masters.append(mt)\n",
    "    i = i+1\n"
   ]
  },
  {
   "cell_type": "code",
   "execution_count": null,
   "metadata": {},
   "outputs": [],
   "source": [
    "pip install pixiedust"
   ]
  },
  {
   "cell_type": "code",
   "execution_count": null,
   "metadata": {},
   "outputs": [],
   "source": []
  },
  {
   "cell_type": "code",
   "execution_count": null,
   "metadata": {},
   "outputs": [],
   "source": []
  },
  {
   "cell_type": "code",
   "execution_count": null,
   "metadata": {},
   "outputs": [],
   "source": []
  },
  {
   "cell_type": "code",
   "execution_count": null,
   "metadata": {},
   "outputs": [],
   "source": []
  },
  {
   "cell_type": "code",
   "execution_count": null,
   "metadata": {},
   "outputs": [],
   "source": []
  },
  {
   "cell_type": "code",
   "execution_count": null,
   "metadata": {},
   "outputs": [],
   "source": []
  },
  {
   "cell_type": "code",
   "execution_count": null,
   "metadata": {},
   "outputs": [],
   "source": []
  },
  {
   "cell_type": "code",
   "execution_count": null,
   "metadata": {},
   "outputs": [],
   "source": []
  }
 ],
 "metadata": {
  "kernelspec": {
   "display_name": "Python 3",
   "language": "python",
   "name": "python3"
  },
  "language_info": {
   "codemirror_mode": {
    "name": "ipython",
    "version": 3
   },
   "file_extension": ".py",
   "mimetype": "text/x-python",
   "name": "python",
   "nbconvert_exporter": "python",
   "pygments_lexer": "ipython3",
   "version": "3.7.3"
  }
 },
 "nbformat": 4,
 "nbformat_minor": 2
}
